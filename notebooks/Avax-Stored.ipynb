{
 "cells": [
  {
   "cell_type": "code",
   "execution_count": 1,
   "id": "0c6763c3",
   "metadata": {},
   "outputs": [],
   "source": [
    "#import web3 and define FUJI net as provider\n",
    "from web3 import Web3\n",
    "my_provider = Web3.HTTPProvider(\"https://api.avax-test.network/ext/bc/C/rpc\")\n",
    "w3 = Web3(my_provider)"
   ]
  },
  {
   "cell_type": "code",
   "execution_count": 2,
   "id": "f18a19cf",
   "metadata": {},
   "outputs": [
    {
     "data": {
      "text/plain": [
       "True"
      ]
     },
     "execution_count": 2,
     "metadata": {},
     "output_type": "execute_result"
    }
   ],
   "source": [
    "#check the connection\n",
    "connected = w3.isConnected()\n",
    "connected"
   ]
  },
  {
   "cell_type": "code",
   "execution_count": 5,
   "id": "a9957f55",
   "metadata": {},
   "outputs": [],
   "source": [
    "#create a new account\n",
    "account = w3.eth.account.create()\n",
    "account_1 = account.address"
   ]
  },
  {
   "cell_type": "code",
   "execution_count": 7,
   "id": "3ed4a07f",
   "metadata": {},
   "outputs": [
    {
     "data": {
      "text/plain": [
       "'0x2a2A7A5B1335af0a596A01bf7a3397e544D9a6CE'"
      ]
     },
     "execution_count": 7,
     "metadata": {},
     "output_type": "execute_result"
    }
   ],
   "source": [
    "#dont forget to transfer funds using the faucet\n",
    "# navigate to https://faucet.avax-test.network/ and put the address stored in account_1\n",
    "# request 20 avax\n",
    "account_1"
   ]
  },
  {
   "cell_type": "code",
   "execution_count": 8,
   "id": "815a921b",
   "metadata": {},
   "outputs": [
    {
     "data": {
      "text/plain": [
       "Decimal('20')"
      ]
     },
     "execution_count": 8,
     "metadata": {},
     "output_type": "execute_result"
    }
   ],
   "source": [
    "#check account balance\n",
    "balance=w3.eth.getBalance(account_1)\n",
    "w3.fromWei(balance,'ether')"
   ]
  },
  {
   "cell_type": "code",
   "execution_count": 9,
   "id": "dcf007a8",
   "metadata": {},
   "outputs": [
    {
     "data": {
      "text/plain": [
       "HexBytes('0x1e5b4fb6455ef8bf86a9b2be07bb4f4972d9f5807e1a367290c0f1d1464d8879')"
      ]
     },
     "execution_count": 9,
     "metadata": {},
     "output_type": "execute_result"
    }
   ],
   "source": [
    "#this is the account private key. It must remain private.\n",
    "account.privateKey"
   ]
  },
  {
   "cell_type": "code",
   "execution_count": 10,
   "id": "67db4f3c",
   "metadata": {},
   "outputs": [
    {
     "data": {
      "text/plain": [
       "{'address': '2a2a7a5b1335af0a596a01bf7a3397e544d9a6ce',\n",
       " 'crypto': {'cipher': 'aes-128-ctr',\n",
       "  'cipherparams': {'iv': '81aaad419e00a4be050767d10716d230'},\n",
       "  'ciphertext': 'd397fcfb4c685b4d507955f6389ccabc16250e04e78951fa9d6ed938e6c1b583',\n",
       "  'kdf': 'scrypt',\n",
       "  'kdfparams': {'dklen': 32,\n",
       "   'n': 262144,\n",
       "   'r': 1,\n",
       "   'p': 8,\n",
       "   'salt': '57dda9d94e318dbc29222f4fefd917c1'},\n",
       "  'mac': '8152a37611a19a19c56c3994721cfbacb86ac4da34db61b710e179b8c1adb626'},\n",
       " 'id': 'ec3bd3a9-4176-4c94-80ce-ca2da3c0ae45',\n",
       " 'version': 3}"
      ]
     },
     "execution_count": 10,
     "metadata": {},
     "output_type": "execute_result"
    }
   ],
   "source": [
    "#encrypt the privatekey\n",
    "keystore = account.encrypt('something')\n",
    "keystore"
   ]
  },
  {
   "cell_type": "code",
   "execution_count": 12,
   "id": "d97e9b06",
   "metadata": {},
   "outputs": [
    {
     "data": {
      "text/plain": [
       "HexBytes('0x1e5b4fb6455ef8bf86a9b2be07bb4f4972d9f5807e1a367290c0f1d1464d8879')"
      ]
     },
     "execution_count": 12,
     "metadata": {},
     "output_type": "execute_result"
    }
   ],
   "source": [
    "#decrypt the keystore using the previous password\n",
    "privatekey = w3.eth.account.decrypt(keystore, 'something')\n",
    "privatekey"
   ]
  },
  {
   "cell_type": "code",
   "execution_count": 16,
   "id": "1dbfa7fa",
   "metadata": {},
   "outputs": [
    {
     "data": {
      "text/plain": [
       "Version('0.8.4')"
      ]
     },
     "execution_count": 16,
     "metadata": {},
     "output_type": "execute_result"
    }
   ],
   "source": [
    "#import solcx and check the current version\n",
    "import solcx\n",
    "from solcx import compile_standard\n",
    "solcx.install_solc()"
   ]
  },
  {
   "cell_type": "code",
   "execution_count": 17,
   "id": "d1b5c0d5",
   "metadata": {},
   "outputs": [
    {
     "data": {
      "text/plain": [
       "{'contracts': {'Storage.sol': {'Storage': {'evm': {'bytecode': {'generatedSources': [],\n",
       "      'linkReferences': {},\n",
       "      'object': '608060405234801561001057600080fd5b5061012f806100206000396000f3fe6080604052348015600f57600080fd5b506004361060325760003560e01c80632e64cec11460375780636057361d146051575b600080fd5b603d6069565b6040516048919060c2565b60405180910390f35b6067600480360381019060639190608f565b6072565b005b60008054905090565b8060008190555050565b60008135905060898160e5565b92915050565b60006020828403121560a057600080fd5b600060ac84828501607c565b91505092915050565b60bc8160db565b82525050565b600060208201905060d5600083018460b5565b92915050565b6000819050919050565b60ec8160db565b811460f657600080fd5b5056fea26469706673582212202656cfb391c38a6f7fce4e3dc942e650b88a193cf09e8c901cad5881bd968ea864736f6c63430008040033',\n",
       "      'opcodes': 'PUSH1 0x80 PUSH1 0x40 MSTORE CALLVALUE DUP1 ISZERO PUSH2 0x10 JUMPI PUSH1 0x0 DUP1 REVERT JUMPDEST POP PUSH2 0x12F DUP1 PUSH2 0x20 PUSH1 0x0 CODECOPY PUSH1 0x0 RETURN INVALID PUSH1 0x80 PUSH1 0x40 MSTORE CALLVALUE DUP1 ISZERO PUSH1 0xF JUMPI PUSH1 0x0 DUP1 REVERT JUMPDEST POP PUSH1 0x4 CALLDATASIZE LT PUSH1 0x32 JUMPI PUSH1 0x0 CALLDATALOAD PUSH1 0xE0 SHR DUP1 PUSH4 0x2E64CEC1 EQ PUSH1 0x37 JUMPI DUP1 PUSH4 0x6057361D EQ PUSH1 0x51 JUMPI JUMPDEST PUSH1 0x0 DUP1 REVERT JUMPDEST PUSH1 0x3D PUSH1 0x69 JUMP JUMPDEST PUSH1 0x40 MLOAD PUSH1 0x48 SWAP2 SWAP1 PUSH1 0xC2 JUMP JUMPDEST PUSH1 0x40 MLOAD DUP1 SWAP2 SUB SWAP1 RETURN JUMPDEST PUSH1 0x67 PUSH1 0x4 DUP1 CALLDATASIZE SUB DUP2 ADD SWAP1 PUSH1 0x63 SWAP2 SWAP1 PUSH1 0x8F JUMP JUMPDEST PUSH1 0x72 JUMP JUMPDEST STOP JUMPDEST PUSH1 0x0 DUP1 SLOAD SWAP1 POP SWAP1 JUMP JUMPDEST DUP1 PUSH1 0x0 DUP2 SWAP1 SSTORE POP POP JUMP JUMPDEST PUSH1 0x0 DUP2 CALLDATALOAD SWAP1 POP PUSH1 0x89 DUP2 PUSH1 0xE5 JUMP JUMPDEST SWAP3 SWAP2 POP POP JUMP JUMPDEST PUSH1 0x0 PUSH1 0x20 DUP3 DUP5 SUB SLT ISZERO PUSH1 0xA0 JUMPI PUSH1 0x0 DUP1 REVERT JUMPDEST PUSH1 0x0 PUSH1 0xAC DUP5 DUP3 DUP6 ADD PUSH1 0x7C JUMP JUMPDEST SWAP2 POP POP SWAP3 SWAP2 POP POP JUMP JUMPDEST PUSH1 0xBC DUP2 PUSH1 0xDB JUMP JUMPDEST DUP3 MSTORE POP POP JUMP JUMPDEST PUSH1 0x0 PUSH1 0x20 DUP3 ADD SWAP1 POP PUSH1 0xD5 PUSH1 0x0 DUP4 ADD DUP5 PUSH1 0xB5 JUMP JUMPDEST SWAP3 SWAP2 POP POP JUMP JUMPDEST PUSH1 0x0 DUP2 SWAP1 POP SWAP2 SWAP1 POP JUMP JUMPDEST PUSH1 0xEC DUP2 PUSH1 0xDB JUMP JUMPDEST DUP2 EQ PUSH1 0xF6 JUMPI PUSH1 0x0 DUP1 REVERT JUMPDEST POP JUMP INVALID LOG2 PUSH5 0x6970667358 0x22 SLT KECCAK256 0x26 JUMP 0xCF 0xB3 SWAP2 0xC3 DUP11 PUSH16 0x7FCE4E3DC942E650B88A193CF09E8C90 SHR 0xAD PC DUP2 0xBD SWAP7 DUP15 0xA8 PUSH5 0x736F6C6343 STOP ADDMOD DIV STOP CALLER ',\n",
       "      'sourceMap': '144:356:0:-:0;;;;;;;;;;;;;;;;;;;'}},\n",
       "    'metadata': '{\"compiler\":{\"version\":\"0.8.4+commit.c7e474f2\"},\"language\":\"Solidity\",\"output\":{\"abi\":[{\"inputs\":[],\"name\":\"retrieve\",\"outputs\":[{\"internalType\":\"uint256\",\"name\":\"\",\"type\":\"uint256\"}],\"stateMutability\":\"view\",\"type\":\"function\"},{\"inputs\":[{\"internalType\":\"uint256\",\"name\":\"num\",\"type\":\"uint256\"}],\"name\":\"store\",\"outputs\":[],\"stateMutability\":\"nonpayable\",\"type\":\"function\"}],\"devdoc\":{\"details\":\"Store & retrieve value in a variable\",\"kind\":\"dev\",\"methods\":{\"retrieve()\":{\"details\":\"Return value \",\"returns\":{\"_0\":\"value of \\'number\\'\"}},\"store(uint256)\":{\"details\":\"Store value in variable\",\"params\":{\"num\":\"value to store\"}}},\"title\":\"Storage\",\"version\":1},\"userdoc\":{\"kind\":\"user\",\"methods\":{},\"version\":1}},\"settings\":{\"compilationTarget\":{\"Storage.sol\":\"Storage\"},\"evmVersion\":\"istanbul\",\"libraries\":{},\"metadata\":{\"bytecodeHash\":\"ipfs\"},\"optimizer\":{\"enabled\":false,\"runs\":200},\"remappings\":[]},\"sources\":{\"Storage.sol\":{\"keccak256\":\"0x342818d65b09d1bad9ae14c0cabbb0d075af5a2f8e813574bd056f0011339a75\",\"license\":\"GPL-3.0\",\"urls\":[\"bzz-raw://8db543f8e33e6174cd7b1cac879f34c12fbb546fbd603d1a88d16918d5b9f9ea\",\"dweb:/ipfs/QmWFgDGcTGY5s6pmG7v3m4rNf7FmD9XL2K5PxoQeFrUVVx\"]}},\"version\":1}'}}},\n",
       " 'sources': {'Storage.sol': {'id': 0}}}"
      ]
     },
     "execution_count": 17,
     "metadata": {},
     "output_type": "execute_result"
    }
   ],
   "source": [
    "#compile a solidity smart contract\n",
    "compiled_sol = compile_standard({\n",
    "     \"language\": \"Solidity\",\n",
    "     \"sources\": {\n",
    "         \"Storage.sol\": {\n",
    "             \"content\": '''   \n",
    "// SPDX-License-Identifier: GPL-3.0\n",
    "pragma solidity >=0.7.0 <0.8.5;\n",
    "\n",
    "/**\n",
    " * @title Storage\n",
    " * @dev Store & retrieve value in a variable\n",
    " */\n",
    "contract Storage {\n",
    "\n",
    "    uint256 number;\n",
    "\n",
    "    /**\n",
    "     * @dev Store value in variable\n",
    "     * @param num value to store\n",
    "     */\n",
    "    function store(uint256 num) public {\n",
    "        number = num;\n",
    "    }\n",
    "\n",
    "    /**\n",
    "     * @dev Return value \n",
    "     * @return value of 'number'\n",
    "     */\n",
    "    function retrieve() public view returns (uint256){\n",
    "        return number;\n",
    "    }\n",
    "}\n",
    "'''\n",
    "         }\n",
    "     },\n",
    "     \"settings\":\n",
    "         {\n",
    "             \"outputSelection\": {\n",
    "                 \"*\": {\n",
    "                     \"*\": [\n",
    "                         \"metadata\", \"evm.bytecode\"\n",
    "                         , \"evm.bytecode.sourceMap\"\n",
    "                     ]\n",
    "                 }\n",
    "             }\n",
    "         }\n",
    "})\n",
    "compiled_sol"
   ]
  },
  {
   "cell_type": "code",
   "execution_count": 18,
   "id": "2987ca23",
   "metadata": {},
   "outputs": [
    {
     "data": {
      "text/plain": [
       "AttributeDict({'blockHash': HexBytes('0x6d1f3ed6a2e4a5ad5ce0175987d8a3b8c55cab702ec1f1534b1f6b375a9019b6'),\n",
       " 'blockNumber': 275805,\n",
       " 'contractAddress': '0x969105D9c07d4a4eE4245Ce3e46fCAC15dc27026',\n",
       " 'cumulativeGasUsed': 118819,\n",
       " 'from': '0x2a2A7A5B1335af0a596A01bf7a3397e544D9a6CE',\n",
       " 'gasUsed': 118819,\n",
       " 'logs': [],\n",
       " 'logsBloom': HexBytes('0x00000000000000000000000000000000000000000000000000000000000000000000000000000000000000000000000000000000000000000000000000000000000000000000000000000000000000000000000000000000000000000000000000000000000000000000000000000000000000000000000000000000000000000000000000000000000000000000000000000000000000000000000000000000000000000000000000000000000000000000000000000000000000000000000000000000000000000000000000000000000000000000000000000000000000000000000000000000000000000000000000000000000000000000000000000000'),\n",
       " 'status': 1,\n",
       " 'to': None,\n",
       " 'transactionHash': HexBytes('0x54c8a5b7e7a5aec970443c4aaf50d97b3ef883ea8ea7963de66ec2426f390709'),\n",
       " 'transactionIndex': 0,\n",
       " 'type': '0x0'})"
      ]
     },
     "execution_count": 18,
     "metadata": {},
     "output_type": "execute_result"
    }
   ],
   "source": [
    "#deploy the smart contract using the account we created before\n",
    "# get bytecode\n",
    "import json\n",
    "bytecode = compiled_sol['contracts']['Storage.sol']['Storage']['evm']['bytecode']['object']\n",
    "\n",
    "# get abi\n",
    "abi = json.loads(compiled_sol['contracts']['Storage.sol']['Storage']['metadata'])['output']['abi']\n",
    "\n",
    "Storage = w3.eth.contract(abi=abi, bytecode=bytecode)\n",
    "\n",
    "# Submit the transaction that deploys the contract\n",
    "\n",
    "nonce = w3.eth.getTransactionCount(account_1)\n",
    "\n",
    "withdraw_txn = Storage.constructor().buildTransaction({\n",
    "    'nonce' : nonce,\n",
    "    'chainId': 43113,\n",
    "    'gasPrice': w3.eth.gas_price,\n",
    "    'gas': 1000000\n",
    "})\n",
    "\n",
    "signed_tx = w3.eth.account.signTransaction(withdraw_txn,privatekey)\n",
    "tx_hash =w3.eth.send_raw_transaction(signed_tx.rawTransaction)\n",
    "w3.eth.waitForTransactionReceipt(tx_hash)\n",
    "\n",
    "#signed_tx = w3.eth.account.signTransaction(tx,privatekey)\n",
    "\n",
    "#tx_hash = Storage.constructor().transact(tx)\n",
    "\n",
    "# Wait for the transaction to be mined, and get the transaction receipt\n",
    "tx_receipt = w3.eth.wait_for_transaction_receipt(tx_hash)\n",
    "tx_receipt"
   ]
  },
  {
   "cell_type": "code",
   "execution_count": 21,
   "id": "94bb5891",
   "metadata": {},
   "outputs": [],
   "source": [
    "#access to the contract instance\n",
    "addr=tx_receipt['contractAddress']\n",
    "contract = w3.eth.contract(address=addr, abi=abi)"
   ]
  },
  {
   "cell_type": "code",
   "execution_count": 22,
   "id": "9513b2b9",
   "metadata": {},
   "outputs": [
    {
     "data": {
      "text/plain": [
       "[<Function retrieve()>, <Function store(uint256)>]"
      ]
     },
     "execution_count": 22,
     "metadata": {},
     "output_type": "execute_result"
    }
   ],
   "source": [
    "contract.all_functions()"
   ]
  },
  {
   "cell_type": "code",
   "execution_count": 30,
   "id": "b7e3d3fc",
   "metadata": {},
   "outputs": [
    {
     "data": {
      "text/plain": [
       "0"
      ]
     },
     "execution_count": 30,
     "metadata": {},
     "output_type": "execute_result"
    }
   ],
   "source": [
    "#check the stored value in the contract\n",
    "contract.functions.retrieve().call()"
   ]
  },
  {
   "cell_type": "code",
   "execution_count": 32,
   "id": "fcfa748d",
   "metadata": {},
   "outputs": [
    {
     "data": {
      "text/plain": [
       "HexBytes('0xedb77d040ec016a8e83682f4c1f1d65f34a78f65c50df7be5a97e34a9f6ddc02')"
      ]
     },
     "execution_count": 32,
     "metadata": {},
     "output_type": "execute_result"
    }
   ],
   "source": [
    "#set a new store value in the framework contract\n",
    "nonce = w3.eth.getTransactionCount(account_1)\n",
    "withdraw_txn = contract.functions.store(10).buildTransaction({\n",
    "    'nonce' : nonce,\n",
    "    'chainId': 43113,\n",
    "    'gasPrice': w3.eth.gas_price,\n",
    "    'gas': 100000\n",
    "})\n",
    "\n",
    "signed_tx = w3.eth.account.signTransaction(withdraw_txn,privatekey)\n",
    "tx_hash =w3.eth.send_raw_transaction(signed_tx.rawTransaction)\n",
    "w3.eth.waitForTransactionReceipt(tx_hash)\n",
    "tx_hash"
   ]
  },
  {
   "cell_type": "code",
   "execution_count": 33,
   "id": "35ed12ec",
   "metadata": {},
   "outputs": [
    {
     "data": {
      "text/plain": [
       "10"
      ]
     },
     "execution_count": 33,
     "metadata": {},
     "output_type": "execute_result"
    }
   ],
   "source": [
    "#check the stored value in the contract\n",
    "contract.functions.retrieve().call()"
   ]
  },
  {
   "cell_type": "code",
   "execution_count": null,
   "id": "9e030f35",
   "metadata": {},
   "outputs": [],
   "source": []
  }
 ],
 "metadata": {
  "kernelspec": {
   "display_name": "Python 3",
   "language": "python",
   "name": "python3"
  },
  "language_info": {
   "codemirror_mode": {
    "name": "ipython",
    "version": 3
   },
   "file_extension": ".py",
   "mimetype": "text/x-python",
   "name": "python",
   "nbconvert_exporter": "python",
   "pygments_lexer": "ipython3",
   "version": "3.9.2"
  }
 },
 "nbformat": 4,
 "nbformat_minor": 5
}
